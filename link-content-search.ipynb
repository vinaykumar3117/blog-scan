{
 "cells": [
  {
   "cell_type": "code",
   "execution_count": 1,
   "metadata": {},
   "outputs": [],
   "source": [
    "from googlesearch import search\n",
    "from urllib.request import urlopen\n",
    "from bs4 import BeautifulSoup"
   ]
  },
  {
   "cell_type": "code",
   "execution_count": 2,
   "metadata": {},
   "outputs": [
    {
     "name": "stdout",
     "output_type": "stream",
     "text": [
      "Search results:-\n",
      "https://www.python.org/\n",
      "https://www.python.org/downloads/\n"
     ]
    }
   ],
   "source": [
    "query = \"python\"\n",
    "\n",
    "links = []\n",
    "for link in search(query, tld='com', num=10, stop=2, pause=2.0):\n",
    "    links.append(link)\n",
    "\n",
    "print(\"Search results:-\")\n",
    "print(*links, sep='\\n')"
   ]
  },
  {
   "cell_type": "code",
   "execution_count": 3,
   "metadata": {},
   "outputs": [],
   "source": [
    "fp = urlopen(links[0])\n",
    "data = fp.read()\n",
    "html_doc = data.decode()\n",
    "fp.close()"
   ]
  },
  {
   "cell_type": "code",
   "execution_count": 4,
   "metadata": {},
   "outputs": [
    {
     "name": "stdout",
     "output_type": "stream",
     "text": [
      "\n",
      "Title: Welcome to Python.org\n",
      "\n",
      "Body:\n",
      " Welcome to Python.org     {\n",
      "       \"@context\": \"https://schema.org\",\n",
      "       \"@type\": \"WebSite\",\n",
      "       \"url\": \"https://www.python.org/\",\n",
      "       \"potentialAction\": {\n",
      "         \"@type\": \"SearchAction\",\n",
      "         \"target\": \"https://www.python.org/search/\n",
      "\n",
      "href:\n",
      "https://docs.python.org\n",
      "https://pypi.python.org/\n",
      "https://www.facebook.com/pythonlang?fref=ts\n",
      "https://twitter.com/ThePSF\n",
      "http://brochure.getpython.info/\n",
      "https://docs.python.org/3/license.html\n",
      "https://wiki.python.org/moin/BeginnersGuide\n",
      "https://devguide.python.org/\n",
      "https://docs.python.org/faq/\n",
      "http://wiki.python.org/moin/Languages\n",
      "http://python.org/dev/peps/\n",
      "https://wiki.python.org/moin/PythonBooks\n"
     ]
    }
   ],
   "source": [
    "soup = BeautifulSoup(html_doc, 'html.parser')\n",
    "print('\\nTitle: {}'.format(soup.title.string))\n",
    "\n",
    "print('\\nBody:\\n{}'.format(soup.get_text().replace('\\n\\n','')[:250]))\n",
    "\n",
    "print('\\nhref:')\n",
    "for link in soup.find_all('a')[:50]:\n",
    "    if link.get('href').find('http') == 0:\n",
    "        print(link.get('href'))"
   ]
  }
 ],
 "metadata": {
  "kernelspec": {
   "display_name": "Python 3",
   "language": "python",
   "name": "python3"
  },
  "language_info": {
   "codemirror_mode": {
    "name": "ipython",
    "version": 3
   },
   "file_extension": ".py",
   "mimetype": "text/x-python",
   "name": "python",
   "nbconvert_exporter": "python",
   "pygments_lexer": "ipython3",
   "version": "3.7.3"
  }
 },
 "nbformat": 4,
 "nbformat_minor": 2
}
